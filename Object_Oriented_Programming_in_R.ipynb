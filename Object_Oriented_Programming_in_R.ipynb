{
  "nbformat": 4,
  "nbformat_minor": 0,
  "metadata": {
    "colab": {
      "provenance": [],
      "authorship_tag": "ABX9TyOClPj8wrARMWiEY44KSzGR",
      "include_colab_link": true
    },
    "kernelspec": {
      "name": "ir",
      "display_name": "R"
    },
    "language_info": {
      "name": "R"
    }
  },
  "cells": [
    {
      "cell_type": "markdown",
      "metadata": {
        "id": "view-in-github",
        "colab_type": "text"
      },
      "source": [
        "<a href=\"https://colab.research.google.com/github/SamAugusto/R_programming/blob/main/Object_Oriented_Programming_in_R.ipynb\" target=\"_parent\"><img src=\"https://colab.research.google.com/assets/colab-badge.svg\" alt=\"Open In Colab\"/></a>"
      ]
    },
    {
      "cell_type": "code",
      "execution_count": 2,
      "metadata": {
        "colab": {
          "base_uri": "https://localhost:8080/",
          "height": 173
        },
        "id": "PdFFSnyBtryF",
        "outputId": "2555c037-2a12-4e59-b20a-803e62644d25"
      },
      "outputs": [
        {
          "output_type": "display_data",
          "data": {
            "text/plain": [
              " [1] $<-,data.frame-method         $<-,envRefClass-method       \n",
              " [3] $<-,localRefClass-method      $<-,refObjectGenerator-method\n",
              " [5] $<-.bibentry*                 $<-.citation*                \n",
              " [7] $<-.data.frame                $<-.person*                  \n",
              " [9] $<-.POSIXlt                   $<-.quosures*                \n",
              "[11] $<-.rlang_ctxt_pronoun*       $<-.rlang_data_pronoun*      \n",
              "[13] $<-.vctrs_list_of*            $<-.vctrs_rcrd*              \n",
              "[15] $<-.vctrs_sclr*               $<-.vctrs_vctr*              \n",
              "see '?methods' for accessing help and source code"
            ]
          },
          "metadata": {}
        }
      ],
      "source": [
        "methods(\"$<-\")"
      ]
    },
    {
      "cell_type": "code",
      "source": [
        "x = matrix(1:10,nc=2)\n",
        "rownames(x) = c(\"a\",\"b\",\"c\",\"d\",\"e\")\n",
        "x\n",
        "class(x) = c(\"named_rows_matrix\",class(x))\n"
      ],
      "metadata": {
        "colab": {
          "base_uri": "https://localhost:8080/",
          "height": 226
        },
        "id": "B13ie7lHwhAm",
        "outputId": "b4e13090-c622-4549-eb1a-1cfd9d61a554"
      },
      "execution_count": 3,
      "outputs": [
        {
          "output_type": "display_data",
          "data": {
            "text/html": [
              "<table class=\"dataframe\">\n",
              "<caption>A matrix: 5 × 2 of type int</caption>\n",
              "<tbody>\n",
              "\t<tr><th scope=row>a</th><td>1</td><td> 6</td></tr>\n",
              "\t<tr><th scope=row>b</th><td>2</td><td> 7</td></tr>\n",
              "\t<tr><th scope=row>c</th><td>3</td><td> 8</td></tr>\n",
              "\t<tr><th scope=row>d</th><td>4</td><td> 9</td></tr>\n",
              "\t<tr><th scope=row>e</th><td>5</td><td>10</td></tr>\n",
              "</tbody>\n",
              "</table>\n"
            ],
            "text/markdown": "\nA matrix: 5 × 2 of type int\n\n| a | 1 |  6 |\n| b | 2 |  7 |\n| c | 3 |  8 |\n| d | 4 |  9 |\n| e | 5 | 10 |\n\n",
            "text/latex": "A matrix: 5 × 2 of type int\n\\begin{tabular}{r|ll}\n\ta & 1 &  6\\\\\n\tb & 2 &  7\\\\\n\tc & 3 &  8\\\\\n\td & 4 &  9\\\\\n\te & 5 & 10\\\\\n\\end{tabular}\n",
            "text/plain": [
              "  [,1] [,2]\n",
              "a 1     6  \n",
              "b 2     7  \n",
              "c 3     8  \n",
              "d 4     9  \n",
              "e 5    10  "
            ]
          },
          "metadata": {}
        }
      ]
    },
    {
      "cell_type": "code",
      "source": [
        "\"$<-.named_rows_matrix\" = function(x,name,value){\n",
        "  stopifnot(is.matrix(x))\n",
        "  rn <- rownames(x)\n",
        "  if (is.null(rn) || !(name %in% rn)) {\n",
        "    stop(sprintf(\"row name %s not found\", name))\n",
        "  }\n",
        "\n",
        "  # 2. validate the value length\n",
        "  if (length(value) != ncol(x)) {\n",
        "    stop(sprintf(\"value must have length %d\", ncol(x)))\n",
        "  }\n",
        "  x[name,] = value\n",
        "  x\n",
        "}"
      ],
      "metadata": {
        "id": "CYrx-7rqxLc5"
      },
      "execution_count": 4,
      "outputs": []
    },
    {
      "cell_type": "code",
      "source": [
        "x$a <- c(10, 20)"
      ],
      "metadata": {
        "id": "FOFagFTB0MQB"
      },
      "execution_count": 5,
      "outputs": []
    },
    {
      "cell_type": "code",
      "source": [
        "x"
      ],
      "metadata": {
        "colab": {
          "base_uri": "https://localhost:8080/",
          "height": 226
        },
        "id": "kFOCjTpH0zpE",
        "outputId": "ce538265-449e-4c0d-93e0-9bdb6a004b52"
      },
      "execution_count": 6,
      "outputs": [
        {
          "output_type": "display_data",
          "data": {
            "text/html": [
              "<table class=\"dataframe\">\n",
              "<caption>A named_rows_matrix: 5 × 2 of type dbl</caption>\n",
              "<tbody>\n",
              "\t<tr><th scope=row>a</th><td>10</td><td>20</td></tr>\n",
              "\t<tr><th scope=row>b</th><td> 2</td><td> 7</td></tr>\n",
              "\t<tr><th scope=row>c</th><td> 3</td><td> 8</td></tr>\n",
              "\t<tr><th scope=row>d</th><td> 4</td><td> 9</td></tr>\n",
              "\t<tr><th scope=row>e</th><td> 5</td><td>10</td></tr>\n",
              "</tbody>\n",
              "</table>\n"
            ],
            "text/markdown": "\nA named_rows_matrix: 5 × 2 of type dbl\n\n| a | 10 | 20 |\n| b |  2 |  7 |\n| c |  3 |  8 |\n| d |  4 |  9 |\n| e |  5 | 10 |\n\n",
            "text/latex": "A named\\_rows\\_matrix: 5 × 2 of type dbl\n\\begin{tabular}{r|ll}\n\ta & 10 & 20\\\\\n\tb &  2 &  7\\\\\n\tc &  3 &  8\\\\\n\td &  4 &  9\\\\\n\te &  5 & 10\\\\\n\\end{tabular}\n",
            "text/plain": [
              "  [,1] [,2]\n",
              "a 10   20  \n",
              "b  2    7  \n",
              "c  3    8  \n",
              "d  4    9  \n",
              "e  5   10  "
            ]
          },
          "metadata": {}
        }
      ]
    },
    {
      "cell_type": "code",
      "source": [
        "x <- matrix(1:6, nrow = 3, byrow = TRUE)\n",
        "rownames(x) <- c(\"a\", \"b\", \"c\")\n",
        "class(x) <- c(\"named_rows_matrix\", class(x))\n",
        "\n",
        "x$a <- c(9, 9)\n",
        "x"
      ],
      "metadata": {
        "colab": {
          "base_uri": "https://localhost:8080/",
          "height": 163
        },
        "id": "L6W2z4_j0oLi",
        "outputId": "756a1e56-8de4-46fb-a7cf-b380907cf17b"
      },
      "execution_count": 7,
      "outputs": [
        {
          "output_type": "display_data",
          "data": {
            "text/html": [
              "<table class=\"dataframe\">\n",
              "<caption>A named_rows_matrix: 3 × 2 of type dbl</caption>\n",
              "<tbody>\n",
              "\t<tr><th scope=row>a</th><td>9</td><td>9</td></tr>\n",
              "\t<tr><th scope=row>b</th><td>3</td><td>4</td></tr>\n",
              "\t<tr><th scope=row>c</th><td>5</td><td>6</td></tr>\n",
              "</tbody>\n",
              "</table>\n"
            ],
            "text/markdown": "\nA named_rows_matrix: 3 × 2 of type dbl\n\n| a | 9 | 9 |\n| b | 3 | 4 |\n| c | 5 | 6 |\n\n",
            "text/latex": "A named\\_rows\\_matrix: 3 × 2 of type dbl\n\\begin{tabular}{r|ll}\n\ta & 9 & 9\\\\\n\tb & 3 & 4\\\\\n\tc & 5 & 6\\\\\n\\end{tabular}\n",
            "text/plain": [
              "  [,1] [,2]\n",
              "a 9    9   \n",
              "b 3    4   \n",
              "c 5    6   "
            ]
          },
          "metadata": {}
        }
      ]
    },
    {
      "cell_type": "code",
      "source": [
        "setClass(\"A\", representation(s1=\"numeric\"),prototype = prototype(s1 = 0))\n",
        "myA = new(\"A\")\n",
        "myA\n",
        "m2 = new(\"A\",s1 = 10)\n",
        "m2"
      ],
      "metadata": {
        "colab": {
          "base_uri": "https://localhost:8080/",
          "height": 121
        },
        "id": "_aV9E5s027q8",
        "outputId": "270d87e0-226c-4bbc-8d6d-6d631f1c2b49"
      },
      "execution_count": 8,
      "outputs": [
        {
          "output_type": "display_data",
          "data": {
            "text/plain": [
              "An object of class \"A\"\n",
              "Slot \"s1\":\n",
              "[1] 0\n"
            ]
          },
          "metadata": {}
        },
        {
          "output_type": "display_data",
          "data": {
            "text/plain": [
              "An object of class \"A\"\n",
              "Slot \"s1\":\n",
              "[1] 10\n"
            ]
          },
          "metadata": {}
        }
      ]
    },
    {
      "cell_type": "code",
      "source": [
        "setClass(\"B\",contains = \"A\",representation(s2 = \"character\"),prototype = list(s2 = \"hi\"))\n",
        "myB = new(\"B\")\n",
        "myB"
      ],
      "metadata": {
        "colab": {
          "base_uri": "https://localhost:8080/",
          "height": 121
        },
        "id": "YCCZtkuW3guj",
        "outputId": "68d60827-3494-4337-8e49-9d0c58ad44e3"
      },
      "execution_count": 9,
      "outputs": [
        {
          "output_type": "display_data",
          "data": {
            "text/plain": [
              "An object of class \"B\"\n",
              "Slot \"s2\":\n",
              "[1] \"hi\"\n",
              "\n",
              "Slot \"s1\":\n",
              "[1] 0\n"
            ]
          },
          "metadata": {}
        }
      ]
    },
    {
      "cell_type": "code",
      "source": [
        "setClass(\"Ohno\",representation(y=\"numeric\"))\n",
        "getClass(\"Ohno\")\n",
        "removeClass(\"Ohno\")\n",
        "tryCatch(getClass(\"Ohno\"),error = function(x) \"Ohno is gone\")"
      ],
      "metadata": {
        "colab": {
          "base_uri": "https://localhost:8080/",
          "height": 156
        },
        "id": "JiD48OXQ3-6J",
        "outputId": "7cb4f1e1-ac84-4e6b-931e-288fc3d4a177"
      },
      "execution_count": 10,
      "outputs": [
        {
          "output_type": "display_data",
          "data": {
            "text/plain": [
              "Class \"Ohno\" [in \".GlobalEnv\"]\n",
              "\n",
              "Slots:\n",
              "              \n",
              "Name:        y\n",
              "Class: numeric"
            ]
          },
          "metadata": {}
        },
        {
          "output_type": "display_data",
          "data": {
            "text/html": [
              "TRUE"
            ],
            "text/markdown": "TRUE",
            "text/latex": "TRUE",
            "text/plain": [
              "[1] TRUE"
            ]
          },
          "metadata": {}
        },
        {
          "output_type": "display_data",
          "data": {
            "text/html": [
              "'Ohno is gone'"
            ],
            "text/markdown": "'Ohno is gone'",
            "text/latex": "'Ohno is gone'",
            "text/plain": [
              "[1] \"Ohno is gone\""
            ]
          },
          "metadata": {}
        }
      ]
    },
    {
      "cell_type": "code",
      "source": [
        "getSlots(\"A\")\n",
        "slotNames(\"A\")"
      ],
      "metadata": {
        "colab": {
          "base_uri": "https://localhost:8080/",
          "height": 52
        },
        "id": "5qC21IIih22V",
        "outputId": "87c6c54b-45a7-4faf-ceca-b261b2f7d032"
      },
      "execution_count": 11,
      "outputs": [
        {
          "output_type": "display_data",
          "data": {
            "text/html": [
              "<strong>s1:</strong> 'numeric'"
            ],
            "text/markdown": "**s1:** 'numeric'",
            "text/latex": "\\textbf{s1:} 'numeric'",
            "text/plain": [
              "       s1 \n",
              "\"numeric\" "
            ]
          },
          "metadata": {}
        },
        {
          "output_type": "display_data",
          "data": {
            "text/html": [
              "'s1'"
            ],
            "text/markdown": "'s1'",
            "text/latex": "'s1'",
            "text/plain": [
              "[1] \"s1\""
            ]
          },
          "metadata": {}
        }
      ]
    },
    {
      "cell_type": "code",
      "source": [
        "extends(\"B\")"
      ],
      "metadata": {
        "colab": {
          "base_uri": "https://localhost:8080/",
          "height": 34
        },
        "id": "_twx7LhtkPEs",
        "outputId": "70db91f4-d662-4317-b6b2-8787f9dfd8bb"
      },
      "execution_count": 12,
      "outputs": [
        {
          "output_type": "display_data",
          "data": {
            "text/html": [
              "<style>\n",
              ".list-inline {list-style: none; margin:0; padding: 0}\n",
              ".list-inline>li {display: inline-block}\n",
              ".list-inline>li:not(:last-child)::after {content: \"\\00b7\"; padding: 0 .5ex}\n",
              "</style>\n",
              "<ol class=list-inline><li>'B'</li><li>'A'</li></ol>\n"
            ],
            "text/markdown": "1. 'B'\n2. 'A'\n\n\n",
            "text/latex": "\\begin{enumerate*}\n\\item 'B'\n\\item 'A'\n\\end{enumerate*}\n",
            "text/plain": [
              "[1] \"B\" \"A\""
            ]
          },
          "metadata": {}
        }
      ]
    },
    {
      "cell_type": "code",
      "source": [
        "install.packages(\"RBioinf\")"
      ],
      "metadata": {
        "colab": {
          "base_uri": "https://localhost:8080/"
        },
        "id": "9rYXQ9pck7Bp",
        "outputId": "d49bb527-8fc6-4820-e641-11cd4c050a26"
      },
      "execution_count": 14,
      "outputs": [
        {
          "output_type": "stream",
          "name": "stderr",
          "text": [
            "Installing package into ‘/usr/local/lib/R/site-library’\n",
            "(as ‘lib’ is unspecified)\n",
            "\n",
            "Warning message:\n",
            "“package ‘RBioinf’ is not available for this version of R\n",
            "\n",
            "A version of this package for your version of R might be available elsewhere,\n",
            "see the ideas at\n",
            "https://cran.r-project.org/doc/manuals/r-patched/R-admin.html#Installing-packages”\n"
          ]
        }
      ]
    },
    {
      "cell_type": "code",
      "source": [
        "getClass(\"matrix\")\n",
        "extends(\"matrix\")"
      ],
      "metadata": {
        "colab": {
          "base_uri": "https://localhost:8080/",
          "height": 208
        },
        "id": "5ooiLJPrk1q5",
        "outputId": "7439d922-55a4-4888-be30-65372c2d4bf2"
      },
      "execution_count": 16,
      "outputs": [
        {
          "output_type": "display_data",
          "data": {
            "text/plain": [
              "Class \"matrix\" [package \"methods\"]\n",
              "\n",
              "No Slots, prototype of class \"matrix\"\n",
              "\n",
              "Extends: \n",
              "Class \"array\", directly\n",
              "Class \"structure\", by class \"array\", distance 2\n",
              "Class \"vector\", by class \"array\", distance 3, with explicit coerce\n",
              "\n",
              "Known Subclasses: \"mts\""
            ]
          },
          "metadata": {}
        },
        {
          "output_type": "display_data",
          "data": {
            "text/html": [
              "<style>\n",
              ".list-inline {list-style: none; margin:0; padding: 0}\n",
              ".list-inline>li {display: inline-block}\n",
              ".list-inline>li:not(:last-child)::after {content: \"\\00b7\"; padding: 0 .5ex}\n",
              "</style>\n",
              "<ol class=list-inline><li>'matrix'</li><li>'array'</li><li>'structure'</li><li>'vector'</li></ol>\n"
            ],
            "text/markdown": "1. 'matrix'\n2. 'array'\n3. 'structure'\n4. 'vector'\n\n\n",
            "text/latex": "\\begin{enumerate*}\n\\item 'matrix'\n\\item 'array'\n\\item 'structure'\n\\item 'vector'\n\\end{enumerate*}\n",
            "text/plain": [
              "[1] \"matrix\"    \"array\"     \"structure\" \"vector\"   "
            ]
          },
          "metadata": {}
        }
      ]
    },
    {
      "cell_type": "code",
      "source": [
        "myb = new(\"B\")\n",
        "as(myb,\"A\")\n"
      ],
      "metadata": {
        "colab": {
          "base_uri": "https://localhost:8080/",
          "height": 69
        },
        "id": "Em_QLnBOmmEv",
        "outputId": "0a193332-6f70-42e4-e675-484a2d07c3f8"
      },
      "execution_count": 24,
      "outputs": [
        {
          "output_type": "display_data",
          "data": {
            "text/plain": [
              "An object of class \"A\"\n",
              "Slot \"s1\":\n",
              "[1] 0\n"
            ]
          },
          "metadata": {}
        }
      ]
    },
    {
      "cell_type": "code",
      "source": [
        "mya = new(\"A\",s1=20)\n",
        "as(myb,\"A\") <- mya\n",
        "myb"
      ],
      "metadata": {
        "colab": {
          "base_uri": "https://localhost:8080/",
          "height": 121
        },
        "id": "c_5x4MKKwziO",
        "outputId": "be988bc1-8081-474e-fa91-5d6aed3c9303"
      },
      "execution_count": 26,
      "outputs": [
        {
          "output_type": "display_data",
          "data": {
            "text/plain": [
              "An object of class \"B\"\n",
              "Slot \"s2\":\n",
              "[1] \"hi\"\n",
              "\n",
              "Slot \"s1\":\n",
              "[1] 20\n"
            ]
          },
          "metadata": {}
        }
      ]
    },
    {
      "cell_type": "code",
      "source": [
        "setClass(\"Ex1\",representation(s1=\"numeric\"),prototype =prototype(s1=rnorm(10) ))"
      ],
      "metadata": {
        "id": "Gr98dhUWxy7-"
      },
      "execution_count": 38,
      "outputs": []
    },
    {
      "cell_type": "code",
      "source": [
        "b = new(\"Ex1\")\n",
        "b"
      ],
      "metadata": {
        "colab": {
          "base_uri": "https://localhost:8080/",
          "height": 86
        },
        "id": "K_y3PJudzny8",
        "outputId": "379944f8-f10c-4d88-e956-de15073f818d"
      },
      "execution_count": 39,
      "outputs": [
        {
          "output_type": "display_data",
          "data": {
            "text/plain": [
              "An object of class \"Ex1\"\n",
              "Slot \"s1\":\n",
              " [1]  1.88948886  0.92029154  0.89500535 -0.21892497 -1.01625342  0.29114548\n",
              " [7] -0.03064325  0.56060212  1.03362674  0.41272649\n"
            ]
          },
          "metadata": {}
        }
      ]
    },
    {
      "cell_type": "code",
      "source": [
        "makeex = function(){\n",
        "  obj = new(\"Ex1\")\n",
        "  obj@s1 = rnorm(10)\n",
        "\n",
        "}\n",
        "b2 = makeex()\n",
        "b2"
      ],
      "metadata": {
        "colab": {
          "base_uri": "https://localhost:8080/",
          "height": 52
        },
        "id": "mBtgfy1pzzb7",
        "outputId": "804cf44c-6f0c-49ef-de7d-687014e47130"
      },
      "execution_count": 43,
      "outputs": [
        {
          "output_type": "display_data",
          "data": {
            "text/html": [
              "<style>\n",
              ".list-inline {list-style: none; margin:0; padding: 0}\n",
              ".list-inline>li {display: inline-block}\n",
              ".list-inline>li:not(:last-child)::after {content: \"\\00b7\"; padding: 0 .5ex}\n",
              "</style>\n",
              "<ol class=list-inline><li>1.05253489224592</li><li>-1.26029574046998</li><li>0.950356290689962</li><li>0.225792519254561</li><li>-1.15189987153963</li><li>-0.947293701355752</li><li>0.188903381836467</li><li>-1.2934281738852</li><li>0.246260826032419</li><li>0.320376801791214</li></ol>\n"
            ],
            "text/markdown": "1. 1.05253489224592\n2. -1.26029574046998\n3. 0.950356290689962\n4. 0.225792519254561\n5. -1.15189987153963\n6. -0.947293701355752\n7. 0.188903381836467\n8. -1.2934281738852\n9. 0.246260826032419\n10. 0.320376801791214\n\n\n",
            "text/latex": "\\begin{enumerate*}\n\\item 1.05253489224592\n\\item -1.26029574046998\n\\item 0.950356290689962\n\\item 0.225792519254561\n\\item -1.15189987153963\n\\item -0.947293701355752\n\\item 0.188903381836467\n\\item -1.2934281738852\n\\item 0.246260826032419\n\\item 0.320376801791214\n\\end{enumerate*}\n",
            "text/plain": [
              " [1]  1.0525349 -1.2602957  0.9503563  0.2257925 -1.1518999 -0.9472937\n",
              " [7]  0.1889034 -1.2934282  0.2462608  0.3203768"
            ]
          },
          "metadata": {}
        }
      ]
    }
  ]
}