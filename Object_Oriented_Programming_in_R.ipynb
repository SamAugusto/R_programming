{
  "nbformat": 4,
  "nbformat_minor": 0,
  "metadata": {
    "colab": {
      "provenance": [],
      "authorship_tag": "ABX9TyNEVjXyg7V8zJq4fbBG7x1C",
      "include_colab_link": true
    },
    "kernelspec": {
      "name": "ir",
      "display_name": "R"
    },
    "language_info": {
      "name": "R"
    }
  },
  "cells": [
    {
      "cell_type": "markdown",
      "metadata": {
        "id": "view-in-github",
        "colab_type": "text"
      },
      "source": [
        "<a href=\"https://colab.research.google.com/github/SamAugusto/R_programming/blob/main/Object_Oriented_Programming_in_R.ipynb\" target=\"_parent\"><img src=\"https://colab.research.google.com/assets/colab-badge.svg\" alt=\"Open In Colab\"/></a>"
      ]
    },
    {
      "cell_type": "code",
      "execution_count": 2,
      "metadata": {
        "colab": {
          "base_uri": "https://localhost:8080/",
          "height": 173
        },
        "id": "PdFFSnyBtryF",
        "outputId": "e053f811-5a5b-449f-ec43-8b5e60b070aa"
      },
      "outputs": [
        {
          "output_type": "display_data",
          "data": {
            "text/plain": [
              " [1] $<-,data.frame-method         $<-,envRefClass-method       \n",
              " [3] $<-,localRefClass-method      $<-,refObjectGenerator-method\n",
              " [5] $<-.bibentry*                 $<-.citation*                \n",
              " [7] $<-.data.frame                $<-.person*                  \n",
              " [9] $<-.POSIXlt                   $<-.quosures*                \n",
              "[11] $<-.rlang_ctxt_pronoun*       $<-.rlang_data_pronoun*      \n",
              "[13] $<-.vctrs_list_of*            $<-.vctrs_rcrd*              \n",
              "[15] $<-.vctrs_sclr*               $<-.vctrs_vctr*              \n",
              "see '?methods' for accessing help and source code"
            ]
          },
          "metadata": {}
        }
      ],
      "source": [
        "methods(\"$<-\")"
      ]
    },
    {
      "cell_type": "code",
      "source": [
        "x = matrix(1:10,nc=2)\n",
        "rownames(x) = c(\"a\",\"b\",\"c\",\"d\",\"e\")\n",
        "x\n",
        "class(x) = c(\"named_rows_matrix\",class(x))\n"
      ],
      "metadata": {
        "colab": {
          "base_uri": "https://localhost:8080/",
          "height": 226
        },
        "id": "B13ie7lHwhAm",
        "outputId": "b94d9b75-b037-44f8-961b-1bb417aa6db8"
      },
      "execution_count": 34,
      "outputs": [
        {
          "output_type": "display_data",
          "data": {
            "text/html": [
              "<table class=\"dataframe\">\n",
              "<caption>A matrix: 5 × 2 of type int</caption>\n",
              "<tbody>\n",
              "\t<tr><th scope=row>a</th><td>1</td><td> 6</td></tr>\n",
              "\t<tr><th scope=row>b</th><td>2</td><td> 7</td></tr>\n",
              "\t<tr><th scope=row>c</th><td>3</td><td> 8</td></tr>\n",
              "\t<tr><th scope=row>d</th><td>4</td><td> 9</td></tr>\n",
              "\t<tr><th scope=row>e</th><td>5</td><td>10</td></tr>\n",
              "</tbody>\n",
              "</table>\n"
            ],
            "text/markdown": "\nA matrix: 5 × 2 of type int\n\n| a | 1 |  6 |\n| b | 2 |  7 |\n| c | 3 |  8 |\n| d | 4 |  9 |\n| e | 5 | 10 |\n\n",
            "text/latex": "A matrix: 5 × 2 of type int\n\\begin{tabular}{r|ll}\n\ta & 1 &  6\\\\\n\tb & 2 &  7\\\\\n\tc & 3 &  8\\\\\n\td & 4 &  9\\\\\n\te & 5 & 10\\\\\n\\end{tabular}\n",
            "text/plain": [
              "  [,1] [,2]\n",
              "a 1     6  \n",
              "b 2     7  \n",
              "c 3     8  \n",
              "d 4     9  \n",
              "e 5    10  "
            ]
          },
          "metadata": {}
        }
      ]
    },
    {
      "cell_type": "code",
      "source": [
        "\"$<-.named_rows_matrix\" = function(x,name,value){\n",
        "  stopifnot(is.matrix(x))\n",
        "  rn <- rownames(x)\n",
        "  if (is.null(rn) || !(name %in% rn)) {\n",
        "    stop(sprintf(\"row name %s not found\", name))\n",
        "  }\n",
        "\n",
        "  # 2. validate the value length\n",
        "  if (length(value) != ncol(x)) {\n",
        "    stop(sprintf(\"value must have length %d\", ncol(x)))\n",
        "  }\n",
        "  x[name,] = value\n",
        "  x\n",
        "}"
      ],
      "metadata": {
        "id": "CYrx-7rqxLc5"
      },
      "execution_count": 35,
      "outputs": []
    },
    {
      "cell_type": "code",
      "source": [
        "x$a <- c(10, 20)"
      ],
      "metadata": {
        "id": "FOFagFTB0MQB"
      },
      "execution_count": 36,
      "outputs": []
    },
    {
      "cell_type": "code",
      "source": [
        "x"
      ],
      "metadata": {
        "colab": {
          "base_uri": "https://localhost:8080/",
          "height": 226
        },
        "id": "kFOCjTpH0zpE",
        "outputId": "b2a09f2b-b25f-4eca-d635-7a3850090a34"
      },
      "execution_count": 37,
      "outputs": [
        {
          "output_type": "display_data",
          "data": {
            "text/html": [
              "<table class=\"dataframe\">\n",
              "<caption>A named_rows_matrix: 5 × 2 of type dbl</caption>\n",
              "<tbody>\n",
              "\t<tr><th scope=row>a</th><td>10</td><td>20</td></tr>\n",
              "\t<tr><th scope=row>b</th><td> 2</td><td> 7</td></tr>\n",
              "\t<tr><th scope=row>c</th><td> 3</td><td> 8</td></tr>\n",
              "\t<tr><th scope=row>d</th><td> 4</td><td> 9</td></tr>\n",
              "\t<tr><th scope=row>e</th><td> 5</td><td>10</td></tr>\n",
              "</tbody>\n",
              "</table>\n"
            ],
            "text/markdown": "\nA named_rows_matrix: 5 × 2 of type dbl\n\n| a | 10 | 20 |\n| b |  2 |  7 |\n| c |  3 |  8 |\n| d |  4 |  9 |\n| e |  5 | 10 |\n\n",
            "text/latex": "A named\\_rows\\_matrix: 5 × 2 of type dbl\n\\begin{tabular}{r|ll}\n\ta & 10 & 20\\\\\n\tb &  2 &  7\\\\\n\tc &  3 &  8\\\\\n\td &  4 &  9\\\\\n\te &  5 & 10\\\\\n\\end{tabular}\n",
            "text/plain": [
              "  [,1] [,2]\n",
              "a 10   20  \n",
              "b  2    7  \n",
              "c  3    8  \n",
              "d  4    9  \n",
              "e  5   10  "
            ]
          },
          "metadata": {}
        }
      ]
    },
    {
      "cell_type": "code",
      "source": [
        "x <- matrix(1:6, nrow = 3, byrow = TRUE)\n",
        "rownames(x) <- c(\"a\", \"b\", \"c\")\n",
        "class(x) <- c(\"named_rows_matrix\", class(x))\n",
        "\n",
        "x$a <- c(9, 9)\n",
        "x"
      ],
      "metadata": {
        "colab": {
          "base_uri": "https://localhost:8080/",
          "height": 163
        },
        "id": "L6W2z4_j0oLi",
        "outputId": "e05ee937-227f-46e4-a211-90a76b4ce144"
      },
      "execution_count": 33,
      "outputs": [
        {
          "output_type": "display_data",
          "data": {
            "text/html": [
              "<table class=\"dataframe\">\n",
              "<caption>A named_rows_matrix: 3 × 2 of type dbl</caption>\n",
              "<tbody>\n",
              "\t<tr><th scope=row>a</th><td>9</td><td>9</td></tr>\n",
              "\t<tr><th scope=row>b</th><td>3</td><td>4</td></tr>\n",
              "\t<tr><th scope=row>c</th><td>5</td><td>6</td></tr>\n",
              "</tbody>\n",
              "</table>\n"
            ],
            "text/markdown": "\nA named_rows_matrix: 3 × 2 of type dbl\n\n| a | 9 | 9 |\n| b | 3 | 4 |\n| c | 5 | 6 |\n\n",
            "text/latex": "A named\\_rows\\_matrix: 3 × 2 of type dbl\n\\begin{tabular}{r|ll}\n\ta & 9 & 9\\\\\n\tb & 3 & 4\\\\\n\tc & 5 & 6\\\\\n\\end{tabular}\n",
            "text/plain": [
              "  [,1] [,2]\n",
              "a 9    9   \n",
              "b 3    4   \n",
              "c 5    6   "
            ]
          },
          "metadata": {}
        }
      ]
    }
  ]
}